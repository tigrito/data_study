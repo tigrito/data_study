{
 "cells": [
  {
   "cell_type": "markdown",
   "metadata": {},
   "source": [
    "## structual indexing"
   ]
  },
  {
   "cell_type": "code",
   "execution_count": 1,
   "metadata": {},
   "outputs": [],
   "source": [
    "import pandas as pd\n",
    "import numpy as np"
   ]
  },
  {
   "cell_type": "code",
   "execution_count": 3,
   "metadata": {},
   "outputs": [
    {
     "data": {
      "text/plain": [
       "(California, 2000)     39299382\n",
       "(California, 2010)     39238294\n",
       "(New York, 2000)       29382938\n",
       "(New York, 2010)       29382948\n",
       "(Texas, 2000)          29003843\n",
       "(Texas, 2010)         290302034\n",
       "dtype: int64"
      ]
     },
     "execution_count": 3,
     "metadata": {},
     "output_type": "execute_result"
    }
   ],
   "source": [
    "index = [('California',2000),('California',2010),('New York', 2000), ('New York', 2010), ('Texas', 2000), ('Texas', 2010)]\n",
    "populations = [39299382, 39238294, 29382938, 29382948, 29003843, 290302034]\n",
    "pop = pd.Series(populations, index=index)\n",
    "pop"
   ]
  },
  {
   "cell_type": "code",
   "execution_count": 5,
   "metadata": {},
   "outputs": [
    {
     "data": {
      "text/plain": [
       "MultiIndex(levels=[['California', 'New York', 'Texas'], [2000, 2010]],\n",
       "           labels=[[0, 0, 1, 1, 2, 2], [0, 1, 0, 1, 0, 1]])"
      ]
     },
     "execution_count": 5,
     "metadata": {},
     "output_type": "execute_result"
    }
   ],
   "source": [
    "index = pd.MultiIndex.from_tuples(index)\n",
    "index"
   ]
  },
  {
   "cell_type": "code",
   "execution_count": 7,
   "metadata": {},
   "outputs": [
    {
     "data": {
      "text/plain": [
       "California  2000     39299382\n",
       "            2010     39238294\n",
       "New York    2000     29382938\n",
       "            2010     29382948\n",
       "Texas       2000     29003843\n",
       "            2010    290302034\n",
       "dtype: int64"
      ]
     },
     "execution_count": 7,
     "metadata": {},
     "output_type": "execute_result"
    }
   ],
   "source": [
    "pop = pop.reindex(index)\n",
    "pop"
   ]
  },
  {
   "cell_type": "code",
   "execution_count": 8,
   "metadata": {},
   "outputs": [
    {
     "data": {
      "text/plain": [
       "California     39238294\n",
       "New York       29382948\n",
       "Texas         290302034\n",
       "dtype: int64"
      ]
     },
     "execution_count": 8,
     "metadata": {},
     "output_type": "execute_result"
    }
   ],
   "source": [
    "pop[:,2010]"
   ]
  },
  {
   "cell_type": "code",
   "execution_count": 9,
   "metadata": {},
   "outputs": [
    {
     "data": {
      "text/html": [
       "<div>\n",
       "<style scoped>\n",
       "    .dataframe tbody tr th:only-of-type {\n",
       "        vertical-align: middle;\n",
       "    }\n",
       "\n",
       "    .dataframe tbody tr th {\n",
       "        vertical-align: top;\n",
       "    }\n",
       "\n",
       "    .dataframe thead th {\n",
       "        text-align: right;\n",
       "    }\n",
       "</style>\n",
       "<table border=\"1\" class=\"dataframe\">\n",
       "  <thead>\n",
       "    <tr style=\"text-align: right;\">\n",
       "      <th></th>\n",
       "      <th>2000</th>\n",
       "      <th>2010</th>\n",
       "    </tr>\n",
       "  </thead>\n",
       "  <tbody>\n",
       "    <tr>\n",
       "      <th>California</th>\n",
       "      <td>39299382</td>\n",
       "      <td>39238294</td>\n",
       "    </tr>\n",
       "    <tr>\n",
       "      <th>New York</th>\n",
       "      <td>29382938</td>\n",
       "      <td>29382948</td>\n",
       "    </tr>\n",
       "    <tr>\n",
       "      <th>Texas</th>\n",
       "      <td>29003843</td>\n",
       "      <td>290302034</td>\n",
       "    </tr>\n",
       "  </tbody>\n",
       "</table>\n",
       "</div>"
      ],
      "text/plain": [
       "                2000       2010\n",
       "California  39299382   39238294\n",
       "New York    29382938   29382948\n",
       "Texas       29003843  290302034"
      ]
     },
     "execution_count": 9,
     "metadata": {},
     "output_type": "execute_result"
    }
   ],
   "source": [
    "pop_df = pop.unstack()\n",
    "pop_df"
   ]
  },
  {
   "cell_type": "code",
   "execution_count": 10,
   "metadata": {},
   "outputs": [
    {
     "data": {
      "text/plain": [
       "California  2000     39299382\n",
       "            2010     39238294\n",
       "New York    2000     29382938\n",
       "            2010     29382948\n",
       "Texas       2000     29003843\n",
       "            2010    290302034\n",
       "dtype: int64"
      ]
     },
     "execution_count": 10,
     "metadata": {},
     "output_type": "execute_result"
    }
   ],
   "source": [
    "pop_df.stack()"
   ]
  },
  {
   "cell_type": "code",
   "execution_count": 11,
   "metadata": {},
   "outputs": [
    {
     "data": {
      "text/html": [
       "<div>\n",
       "<style scoped>\n",
       "    .dataframe tbody tr th:only-of-type {\n",
       "        vertical-align: middle;\n",
       "    }\n",
       "\n",
       "    .dataframe tbody tr th {\n",
       "        vertical-align: top;\n",
       "    }\n",
       "\n",
       "    .dataframe thead th {\n",
       "        text-align: right;\n",
       "    }\n",
       "</style>\n",
       "<table border=\"1\" class=\"dataframe\">\n",
       "  <thead>\n",
       "    <tr style=\"text-align: right;\">\n",
       "      <th></th>\n",
       "      <th></th>\n",
       "      <th>total</th>\n",
       "      <th>under18</th>\n",
       "    </tr>\n",
       "  </thead>\n",
       "  <tbody>\n",
       "    <tr>\n",
       "      <th rowspan=\"2\" valign=\"top\">California</th>\n",
       "      <th>2000</th>\n",
       "      <td>39299382</td>\n",
       "      <td>198222</td>\n",
       "    </tr>\n",
       "    <tr>\n",
       "      <th>2010</th>\n",
       "      <td>39238294</td>\n",
       "      <td>928394</td>\n",
       "    </tr>\n",
       "    <tr>\n",
       "      <th rowspan=\"2\" valign=\"top\">New York</th>\n",
       "      <th>2000</th>\n",
       "      <td>29382938</td>\n",
       "      <td>5043049</td>\n",
       "    </tr>\n",
       "    <tr>\n",
       "      <th>2010</th>\n",
       "      <td>29382948</td>\n",
       "      <td>3209390</td>\n",
       "    </tr>\n",
       "    <tr>\n",
       "      <th rowspan=\"2\" valign=\"top\">Texas</th>\n",
       "      <th>2000</th>\n",
       "      <td>29003843</td>\n",
       "      <td>39203940</td>\n",
       "    </tr>\n",
       "    <tr>\n",
       "      <th>2010</th>\n",
       "      <td>290302034</td>\n",
       "      <td>293849934</td>\n",
       "    </tr>\n",
       "  </tbody>\n",
       "</table>\n",
       "</div>"
      ],
      "text/plain": [
       "                     total    under18\n",
       "California 2000   39299382     198222\n",
       "           2010   39238294     928394\n",
       "New York   2000   29382938    5043049\n",
       "           2010   29382948    3209390\n",
       "Texas      2000   29003843   39203940\n",
       "           2010  290302034  293849934"
      ]
     },
     "execution_count": 11,
     "metadata": {},
     "output_type": "execute_result"
    }
   ],
   "source": [
    "pop_df = pd.DataFrame({'total': pop, 'under18': [198222, 928394, 5043049, 3209390, 39203940, 293849934]})\n",
    "pop_df"
   ]
  },
  {
   "cell_type": "code",
   "execution_count": 14,
   "metadata": {},
   "outputs": [
    {
     "name": "stdout",
     "output_type": "stream",
     "text": [
      "California  2000    0.005044\n",
      "            2010    0.023660\n",
      "New York    2000    0.171632\n",
      "            2010    0.109226\n",
      "Texas       2000    1.351681\n",
      "            2010    1.012221\n",
      "dtype: float64\n",
      "                2000      2010\n",
      "California  0.005044  0.023660\n",
      "New York    0.171632  0.109226\n",
      "Texas       1.351681  1.012221\n"
     ]
    }
   ],
   "source": [
    "f_u18 = pop_df['under18']/pop_df['total']\n",
    "print(f_u18)\n",
    "print(f_u18.unstack())"
   ]
  },
  {
   "cell_type": "code",
   "execution_count": 16,
   "metadata": {},
   "outputs": [
    {
     "data": {
      "text/html": [
       "<div>\n",
       "<style scoped>\n",
       "    .dataframe tbody tr th:only-of-type {\n",
       "        vertical-align: middle;\n",
       "    }\n",
       "\n",
       "    .dataframe tbody tr th {\n",
       "        vertical-align: top;\n",
       "    }\n",
       "\n",
       "    .dataframe thead th {\n",
       "        text-align: right;\n",
       "    }\n",
       "</style>\n",
       "<table border=\"1\" class=\"dataframe\">\n",
       "  <thead>\n",
       "    <tr style=\"text-align: right;\">\n",
       "      <th></th>\n",
       "      <th></th>\n",
       "      <th>data1</th>\n",
       "      <th>data2</th>\n",
       "    </tr>\n",
       "  </thead>\n",
       "  <tbody>\n",
       "    <tr>\n",
       "      <th rowspan=\"2\" valign=\"top\">a</th>\n",
       "      <th>1</th>\n",
       "      <td>0.954761</td>\n",
       "      <td>0.446813</td>\n",
       "    </tr>\n",
       "    <tr>\n",
       "      <th>2</th>\n",
       "      <td>0.820871</td>\n",
       "      <td>0.972130</td>\n",
       "    </tr>\n",
       "    <tr>\n",
       "      <th rowspan=\"2\" valign=\"top\">b</th>\n",
       "      <th>1</th>\n",
       "      <td>0.743217</td>\n",
       "      <td>0.898545</td>\n",
       "    </tr>\n",
       "    <tr>\n",
       "      <th>2</th>\n",
       "      <td>0.603238</td>\n",
       "      <td>0.852631</td>\n",
       "    </tr>\n",
       "  </tbody>\n",
       "</table>\n",
       "</div>"
      ],
      "text/plain": [
       "        data1     data2\n",
       "a 1  0.954761  0.446813\n",
       "  2  0.820871  0.972130\n",
       "b 1  0.743217  0.898545\n",
       "  2  0.603238  0.852631"
      ]
     },
     "execution_count": 16,
     "metadata": {},
     "output_type": "execute_result"
    }
   ],
   "source": [
    "df = pd.DataFrame(np.random.rand(4,2), index = [['a','a','b','b'], [1,2,1,2]], columns = ['data1','data2'])\n",
    "df"
   ]
  },
  {
   "cell_type": "code",
   "execution_count": 18,
   "metadata": {},
   "outputs": [
    {
     "data": {
      "text/plain": [
       "MultiIndex(levels=[['a', 'b'], [1, 2]],\n",
       "           labels=[[0, 0, 1, 1], [0, 1, 0, 1]])"
      ]
     },
     "execution_count": 18,
     "metadata": {},
     "output_type": "execute_result"
    }
   ],
   "source": [
    "pd.MultiIndex.from_arrays([['a','a','b','b'],[1,2,1,2]])"
   ]
  },
  {
   "cell_type": "code",
   "execution_count": 19,
   "metadata": {},
   "outputs": [
    {
     "data": {
      "text/plain": [
       "MultiIndex(levels=[['a', 'b'], [1, 2]],\n",
       "           labels=[[0, 0, 1, 1], [0, 1, 0, 1]])"
      ]
     },
     "execution_count": 19,
     "metadata": {},
     "output_type": "execute_result"
    }
   ],
   "source": [
    "pd.MultiIndex.from_tuples([('a',1),('a',2),('b',1),('b',2)])"
   ]
  },
  {
   "cell_type": "code",
   "execution_count": 20,
   "metadata": {},
   "outputs": [
    {
     "data": {
      "text/plain": [
       "MultiIndex(levels=[['a', 'b'], [1, 2]],\n",
       "           labels=[[0, 0, 1, 1], [0, 1, 0, 1]])"
      ]
     },
     "execution_count": 20,
     "metadata": {},
     "output_type": "execute_result"
    }
   ],
   "source": [
    "pd.MultiIndex.from_product([['a','b'],[1,2]])"
   ]
  },
  {
   "cell_type": "code",
   "execution_count": 22,
   "metadata": {},
   "outputs": [
    {
     "data": {
      "text/plain": [
       "state       year\n",
       "California  2000     39299382\n",
       "            2010     39238294\n",
       "New York    2000     29382938\n",
       "            2010     29382948\n",
       "Texas       2000     29003843\n",
       "            2010    290302034\n",
       "dtype: int64"
      ]
     },
     "execution_count": 22,
     "metadata": {},
     "output_type": "execute_result"
    }
   ],
   "source": [
    "pop.index.names = ['state','year']\n",
    "pop"
   ]
  },
  {
   "cell_type": "code",
   "execution_count": 23,
   "metadata": {},
   "outputs": [
    {
     "data": {
      "text/plain": [
       "39299382"
      ]
     },
     "execution_count": 23,
     "metadata": {},
     "output_type": "execute_result"
    }
   ],
   "source": [
    "pop['California', 2000]"
   ]
  },
  {
   "cell_type": "code",
   "execution_count": 24,
   "metadata": {},
   "outputs": [
    {
     "data": {
      "text/plain": [
       "year\n",
       "2000    39299382\n",
       "2010    39238294\n",
       "dtype: int64"
      ]
     },
     "execution_count": 24,
     "metadata": {},
     "output_type": "execute_result"
    }
   ],
   "source": [
    "pop['California']"
   ]
  },
  {
   "cell_type": "code",
   "execution_count": 25,
   "metadata": {},
   "outputs": [
    {
     "data": {
      "text/plain": [
       "state       year\n",
       "California  2000    39299382\n",
       "            2010    39238294\n",
       "New York    2000    29382938\n",
       "            2010    29382948\n",
       "dtype: int64"
      ]
     },
     "execution_count": 25,
     "metadata": {},
     "output_type": "execute_result"
    }
   ],
   "source": [
    "pop.loc['California':'New York']"
   ]
  },
  {
   "cell_type": "code",
   "execution_count": 26,
   "metadata": {},
   "outputs": [
    {
     "data": {
      "text/plain": [
       "state\n",
       "California    39299382\n",
       "New York      29382938\n",
       "Texas         29003843\n",
       "dtype: int64"
      ]
     },
     "execution_count": 26,
     "metadata": {},
     "output_type": "execute_result"
    }
   ],
   "source": [
    "pop[:,2000]"
   ]
  },
  {
   "cell_type": "code",
   "execution_count": 27,
   "metadata": {},
   "outputs": [
    {
     "data": {
      "text/plain": [
       "state       year\n",
       "California  2000     39299382\n",
       "            2010     39238294\n",
       "New York    2000     29382938\n",
       "            2010     29382948\n",
       "Texas       2000     29003843\n",
       "            2010    290302034\n",
       "dtype: int64"
      ]
     },
     "execution_count": 27,
     "metadata": {},
     "output_type": "execute_result"
    }
   ],
   "source": [
    "pop[pop>20000000]"
   ]
  },
  {
   "cell_type": "code",
   "execution_count": 28,
   "metadata": {},
   "outputs": [
    {
     "data": {
      "text/plain": [
       "state       year\n",
       "California  2000     39299382\n",
       "            2010     39238294\n",
       "Texas       2000     29003843\n",
       "            2010    290302034\n",
       "dtype: int64"
      ]
     },
     "execution_count": 28,
     "metadata": {},
     "output_type": "execute_result"
    }
   ],
   "source": [
    "pop[['California', 'Texas']]"
   ]
  },
  {
   "cell_type": "code",
   "execution_count": 5,
   "metadata": {},
   "outputs": [],
   "source": [
    "## concat append\n",
    "import pandas as pd\n",
    "import numpy as np"
   ]
  },
  {
   "cell_type": "code",
   "execution_count": 6,
   "metadata": {},
   "outputs": [],
   "source": [
    "def make_df(cols, ind):\n",
    "    data = {c:[str(c) + str(i) for i in ind] for c in cols}\n",
    "    return pd.DataFrame(data, ind)"
   ]
  },
  {
   "cell_type": "code",
   "execution_count": 7,
   "metadata": {},
   "outputs": [
    {
     "data": {
      "text/plain": [
       "array([1, 2, 3, 4, 5, 6, 7, 8, 9])"
      ]
     },
     "execution_count": 7,
     "metadata": {},
     "output_type": "execute_result"
    }
   ],
   "source": [
    "x = [1,2,3]\n",
    "y = [4,5,6]\n",
    "z = [7,8,9]\n",
    "np.concatenate([x,y,z])"
   ]
  },
  {
   "cell_type": "code",
   "execution_count": 9,
   "metadata": {},
   "outputs": [
    {
     "data": {
      "text/plain": [
       "array([[1, 2, 1, 2],\n",
       "       [3, 4, 3, 4]])"
      ]
     },
     "execution_count": 9,
     "metadata": {},
     "output_type": "execute_result"
    }
   ],
   "source": [
    "x= [[1,2], [3,4]]\n",
    "np.concatenate([x,x],axis=1)"
   ]
  },
  {
   "cell_type": "code",
   "execution_count": 10,
   "metadata": {},
   "outputs": [
    {
     "data": {
      "text/plain": [
       "\u001b[0;31mSignature:\u001b[0m \u001b[0mpd\u001b[0m\u001b[0;34m.\u001b[0m\u001b[0mconcat\u001b[0m\u001b[0;34m(\u001b[0m\u001b[0mobjs\u001b[0m\u001b[0;34m,\u001b[0m \u001b[0maxis\u001b[0m\u001b[0;34m=\u001b[0m\u001b[0;36m0\u001b[0m\u001b[0;34m,\u001b[0m \u001b[0mjoin\u001b[0m\u001b[0;34m=\u001b[0m\u001b[0;34m'outer'\u001b[0m\u001b[0;34m,\u001b[0m \u001b[0mjoin_axes\u001b[0m\u001b[0;34m=\u001b[0m\u001b[0;32mNone\u001b[0m\u001b[0;34m,\u001b[0m \u001b[0mignore_index\u001b[0m\u001b[0;34m=\u001b[0m\u001b[0;32mFalse\u001b[0m\u001b[0;34m,\u001b[0m \u001b[0mkeys\u001b[0m\u001b[0;34m=\u001b[0m\u001b[0;32mNone\u001b[0m\u001b[0;34m,\u001b[0m \u001b[0mlevels\u001b[0m\u001b[0;34m=\u001b[0m\u001b[0;32mNone\u001b[0m\u001b[0;34m,\u001b[0m \u001b[0mnames\u001b[0m\u001b[0;34m=\u001b[0m\u001b[0;32mNone\u001b[0m\u001b[0;34m,\u001b[0m \u001b[0mverify_integrity\u001b[0m\u001b[0;34m=\u001b[0m\u001b[0;32mFalse\u001b[0m\u001b[0;34m,\u001b[0m \u001b[0msort\u001b[0m\u001b[0;34m=\u001b[0m\u001b[0;32mNone\u001b[0m\u001b[0;34m,\u001b[0m \u001b[0mcopy\u001b[0m\u001b[0;34m=\u001b[0m\u001b[0;32mTrue\u001b[0m\u001b[0;34m)\u001b[0m\u001b[0;34m\u001b[0m\u001b[0;34m\u001b[0m\u001b[0m\n",
       "\u001b[0;31mSource:\u001b[0m   \n",
       "\u001b[0;32mdef\u001b[0m \u001b[0mconcat\u001b[0m\u001b[0;34m(\u001b[0m\u001b[0mobjs\u001b[0m\u001b[0;34m,\u001b[0m \u001b[0maxis\u001b[0m\u001b[0;34m=\u001b[0m\u001b[0;36m0\u001b[0m\u001b[0;34m,\u001b[0m \u001b[0mjoin\u001b[0m\u001b[0;34m=\u001b[0m\u001b[0;34m'outer'\u001b[0m\u001b[0;34m,\u001b[0m \u001b[0mjoin_axes\u001b[0m\u001b[0;34m=\u001b[0m\u001b[0;32mNone\u001b[0m\u001b[0;34m,\u001b[0m \u001b[0mignore_index\u001b[0m\u001b[0;34m=\u001b[0m\u001b[0;32mFalse\u001b[0m\u001b[0;34m,\u001b[0m\u001b[0;34m\u001b[0m\n",
       "\u001b[0;34m\u001b[0m           \u001b[0mkeys\u001b[0m\u001b[0;34m=\u001b[0m\u001b[0;32mNone\u001b[0m\u001b[0;34m,\u001b[0m \u001b[0mlevels\u001b[0m\u001b[0;34m=\u001b[0m\u001b[0;32mNone\u001b[0m\u001b[0;34m,\u001b[0m \u001b[0mnames\u001b[0m\u001b[0;34m=\u001b[0m\u001b[0;32mNone\u001b[0m\u001b[0;34m,\u001b[0m \u001b[0mverify_integrity\u001b[0m\u001b[0;34m=\u001b[0m\u001b[0;32mFalse\u001b[0m\u001b[0;34m,\u001b[0m\u001b[0;34m\u001b[0m\n",
       "\u001b[0;34m\u001b[0m           \u001b[0msort\u001b[0m\u001b[0;34m=\u001b[0m\u001b[0;32mNone\u001b[0m\u001b[0;34m,\u001b[0m \u001b[0mcopy\u001b[0m\u001b[0;34m=\u001b[0m\u001b[0;32mTrue\u001b[0m\u001b[0;34m)\u001b[0m\u001b[0;34m:\u001b[0m\u001b[0;34m\u001b[0m\n",
       "\u001b[0;34m\u001b[0m    \u001b[0;34m\"\"\"\u001b[0m\n",
       "\u001b[0;34m    Concatenate pandas objects along a particular axis with optional set logic\u001b[0m\n",
       "\u001b[0;34m    along the other axes.\u001b[0m\n",
       "\u001b[0;34m\u001b[0m\n",
       "\u001b[0;34m    Can also add a layer of hierarchical indexing on the concatenation axis,\u001b[0m\n",
       "\u001b[0;34m    which may be useful if the labels are the same (or overlapping) on\u001b[0m\n",
       "\u001b[0;34m    the passed axis number.\u001b[0m\n",
       "\u001b[0;34m\u001b[0m\n",
       "\u001b[0;34m    Parameters\u001b[0m\n",
       "\u001b[0;34m    ----------\u001b[0m\n",
       "\u001b[0;34m    objs : a sequence or mapping of Series, DataFrame, or Panel objects\u001b[0m\n",
       "\u001b[0;34m        If a dict is passed, the sorted keys will be used as the `keys`\u001b[0m\n",
       "\u001b[0;34m        argument, unless it is passed, in which case the values will be\u001b[0m\n",
       "\u001b[0;34m        selected (see below). Any None objects will be dropped silently unless\u001b[0m\n",
       "\u001b[0;34m        they are all None in which case a ValueError will be raised\u001b[0m\n",
       "\u001b[0;34m    axis : {0/'index', 1/'columns'}, default 0\u001b[0m\n",
       "\u001b[0;34m        The axis to concatenate along\u001b[0m\n",
       "\u001b[0;34m    join : {'inner', 'outer'}, default 'outer'\u001b[0m\n",
       "\u001b[0;34m        How to handle indexes on other axis(es)\u001b[0m\n",
       "\u001b[0;34m    join_axes : list of Index objects\u001b[0m\n",
       "\u001b[0;34m        Specific indexes to use for the other n - 1 axes instead of performing\u001b[0m\n",
       "\u001b[0;34m        inner/outer set logic\u001b[0m\n",
       "\u001b[0;34m    ignore_index : boolean, default False\u001b[0m\n",
       "\u001b[0;34m        If True, do not use the index values along the concatenation axis. The\u001b[0m\n",
       "\u001b[0;34m        resulting axis will be labeled 0, ..., n - 1. This is useful if you are\u001b[0m\n",
       "\u001b[0;34m        concatenating objects where the concatenation axis does not have\u001b[0m\n",
       "\u001b[0;34m        meaningful indexing information. Note the index values on the other\u001b[0m\n",
       "\u001b[0;34m        axes are still respected in the join.\u001b[0m\n",
       "\u001b[0;34m    keys : sequence, default None\u001b[0m\n",
       "\u001b[0;34m        If multiple levels passed, should contain tuples. Construct\u001b[0m\n",
       "\u001b[0;34m        hierarchical index using the passed keys as the outermost level\u001b[0m\n",
       "\u001b[0;34m    levels : list of sequences, default None\u001b[0m\n",
       "\u001b[0;34m        Specific levels (unique values) to use for constructing a\u001b[0m\n",
       "\u001b[0;34m        MultiIndex. Otherwise they will be inferred from the keys\u001b[0m\n",
       "\u001b[0;34m    names : list, default None\u001b[0m\n",
       "\u001b[0;34m        Names for the levels in the resulting hierarchical index\u001b[0m\n",
       "\u001b[0;34m    verify_integrity : boolean, default False\u001b[0m\n",
       "\u001b[0;34m        Check whether the new concatenated axis contains duplicates. This can\u001b[0m\n",
       "\u001b[0;34m        be very expensive relative to the actual data concatenation\u001b[0m\n",
       "\u001b[0;34m    sort : boolean, default None\u001b[0m\n",
       "\u001b[0;34m        Sort non-concatenation axis if it is not already aligned when `join`\u001b[0m\n",
       "\u001b[0;34m        is 'outer'. The current default of sorting is deprecated and will\u001b[0m\n",
       "\u001b[0;34m        change to not-sorting in a future version of pandas.\u001b[0m\n",
       "\u001b[0;34m\u001b[0m\n",
       "\u001b[0;34m        Explicitly pass ``sort=True`` to silence the warning and sort.\u001b[0m\n",
       "\u001b[0;34m        Explicitly pass ``sort=False`` to silence the warning and not sort.\u001b[0m\n",
       "\u001b[0;34m\u001b[0m\n",
       "\u001b[0;34m        This has no effect when ``join='inner'``, which already preserves\u001b[0m\n",
       "\u001b[0;34m        the order of the non-concatenation axis.\u001b[0m\n",
       "\u001b[0;34m\u001b[0m\n",
       "\u001b[0;34m        .. versionadded:: 0.23.0\u001b[0m\n",
       "\u001b[0;34m\u001b[0m\n",
       "\u001b[0;34m    copy : boolean, default True\u001b[0m\n",
       "\u001b[0;34m        If False, do not copy data unnecessarily\u001b[0m\n",
       "\u001b[0;34m\u001b[0m\n",
       "\u001b[0;34m    Returns\u001b[0m\n",
       "\u001b[0;34m    -------\u001b[0m\n",
       "\u001b[0;34m    concatenated : object, type of objs\u001b[0m\n",
       "\u001b[0;34m        When concatenating all ``Series`` along the index (axis=0), a\u001b[0m\n",
       "\u001b[0;34m        ``Series`` is returned. When ``objs`` contains at least one\u001b[0m\n",
       "\u001b[0;34m        ``DataFrame``, a ``DataFrame`` is returned. When concatenating along\u001b[0m\n",
       "\u001b[0;34m        the columns (axis=1), a ``DataFrame`` is returned.\u001b[0m\n",
       "\u001b[0;34m\u001b[0m\n",
       "\u001b[0;34m    Notes\u001b[0m\n",
       "\u001b[0;34m    -----\u001b[0m\n",
       "\u001b[0;34m    The keys, levels, and names arguments are all optional.\u001b[0m\n",
       "\u001b[0;34m\u001b[0m\n",
       "\u001b[0;34m    A walkthrough of how this method fits in with other tools for combining\u001b[0m\n",
       "\u001b[0;34m    pandas objects can be found `here\u001b[0m\n",
       "\u001b[0;34m    <http://pandas.pydata.org/pandas-docs/stable/merging.html>`__.\u001b[0m\n",
       "\u001b[0;34m\u001b[0m\n",
       "\u001b[0;34m    See Also\u001b[0m\n",
       "\u001b[0;34m    --------\u001b[0m\n",
       "\u001b[0;34m    Series.append\u001b[0m\n",
       "\u001b[0;34m    DataFrame.append\u001b[0m\n",
       "\u001b[0;34m    DataFrame.join\u001b[0m\n",
       "\u001b[0;34m    DataFrame.merge\u001b[0m\n",
       "\u001b[0;34m\u001b[0m\n",
       "\u001b[0;34m    Examples\u001b[0m\n",
       "\u001b[0;34m    --------\u001b[0m\n",
       "\u001b[0;34m    Combine two ``Series``.\u001b[0m\n",
       "\u001b[0;34m\u001b[0m\n",
       "\u001b[0;34m    >>> s1 = pd.Series(['a', 'b'])\u001b[0m\n",
       "\u001b[0;34m    >>> s2 = pd.Series(['c', 'd'])\u001b[0m\n",
       "\u001b[0;34m    >>> pd.concat([s1, s2])\u001b[0m\n",
       "\u001b[0;34m    0    a\u001b[0m\n",
       "\u001b[0;34m    1    b\u001b[0m\n",
       "\u001b[0;34m    0    c\u001b[0m\n",
       "\u001b[0;34m    1    d\u001b[0m\n",
       "\u001b[0;34m    dtype: object\u001b[0m\n",
       "\u001b[0;34m\u001b[0m\n",
       "\u001b[0;34m    Clear the existing index and reset it in the result\u001b[0m\n",
       "\u001b[0;34m    by setting the ``ignore_index`` option to ``True``.\u001b[0m\n",
       "\u001b[0;34m\u001b[0m\n",
       "\u001b[0;34m    >>> pd.concat([s1, s2], ignore_index=True)\u001b[0m\n",
       "\u001b[0;34m    0    a\u001b[0m\n",
       "\u001b[0;34m    1    b\u001b[0m\n",
       "\u001b[0;34m    2    c\u001b[0m\n",
       "\u001b[0;34m    3    d\u001b[0m\n",
       "\u001b[0;34m    dtype: object\u001b[0m\n",
       "\u001b[0;34m\u001b[0m\n",
       "\u001b[0;34m    Add a hierarchical index at the outermost level of\u001b[0m\n",
       "\u001b[0;34m    the data with the ``keys`` option.\u001b[0m\n",
       "\u001b[0;34m\u001b[0m\n",
       "\u001b[0;34m    >>> pd.concat([s1, s2], keys=['s1', 's2',])\u001b[0m\n",
       "\u001b[0;34m    s1  0    a\u001b[0m\n",
       "\u001b[0;34m        1    b\u001b[0m\n",
       "\u001b[0;34m    s2  0    c\u001b[0m\n",
       "\u001b[0;34m        1    d\u001b[0m\n",
       "\u001b[0;34m    dtype: object\u001b[0m\n",
       "\u001b[0;34m\u001b[0m\n",
       "\u001b[0;34m    Label the index keys you create with the ``names`` option.\u001b[0m\n",
       "\u001b[0;34m\u001b[0m\n",
       "\u001b[0;34m    >>> pd.concat([s1, s2], keys=['s1', 's2'],\u001b[0m\n",
       "\u001b[0;34m    ...           names=['Series name', 'Row ID'])\u001b[0m\n",
       "\u001b[0;34m    Series name  Row ID\u001b[0m\n",
       "\u001b[0;34m    s1           0         a\u001b[0m\n",
       "\u001b[0;34m                 1         b\u001b[0m\n",
       "\u001b[0;34m    s2           0         c\u001b[0m\n",
       "\u001b[0;34m                 1         d\u001b[0m\n",
       "\u001b[0;34m    dtype: object\u001b[0m\n",
       "\u001b[0;34m\u001b[0m\n",
       "\u001b[0;34m    Combine two ``DataFrame`` objects with identical columns.\u001b[0m\n",
       "\u001b[0;34m\u001b[0m\n",
       "\u001b[0;34m    >>> df1 = pd.DataFrame([['a', 1], ['b', 2]],\u001b[0m\n",
       "\u001b[0;34m    ...                    columns=['letter', 'number'])\u001b[0m\n",
       "\u001b[0;34m    >>> df1\u001b[0m\n",
       "\u001b[0;34m      letter  number\u001b[0m\n",
       "\u001b[0;34m    0      a       1\u001b[0m\n",
       "\u001b[0;34m    1      b       2\u001b[0m\n",
       "\u001b[0;34m    >>> df2 = pd.DataFrame([['c', 3], ['d', 4]],\u001b[0m\n",
       "\u001b[0;34m    ...                    columns=['letter', 'number'])\u001b[0m\n",
       "\u001b[0;34m    >>> df2\u001b[0m\n",
       "\u001b[0;34m      letter  number\u001b[0m\n",
       "\u001b[0;34m    0      c       3\u001b[0m\n",
       "\u001b[0;34m    1      d       4\u001b[0m\n",
       "\u001b[0;34m    >>> pd.concat([df1, df2])\u001b[0m\n",
       "\u001b[0;34m      letter  number\u001b[0m\n",
       "\u001b[0;34m    0      a       1\u001b[0m\n",
       "\u001b[0;34m    1      b       2\u001b[0m\n",
       "\u001b[0;34m    0      c       3\u001b[0m\n",
       "\u001b[0;34m    1      d       4\u001b[0m\n",
       "\u001b[0;34m\u001b[0m\n",
       "\u001b[0;34m    Combine ``DataFrame`` objects with overlapping columns\u001b[0m\n",
       "\u001b[0;34m    and return everything. Columns outside the intersection will\u001b[0m\n",
       "\u001b[0;34m    be filled with ``NaN`` values.\u001b[0m\n",
       "\u001b[0;34m\u001b[0m\n",
       "\u001b[0;34m    >>> df3 = pd.DataFrame([['c', 3, 'cat'], ['d', 4, 'dog']],\u001b[0m\n",
       "\u001b[0;34m    ...                    columns=['letter', 'number', 'animal'])\u001b[0m\n",
       "\u001b[0;34m    >>> df3\u001b[0m\n",
       "\u001b[0;34m      letter  number animal\u001b[0m\n",
       "\u001b[0;34m    0      c       3    cat\u001b[0m\n",
       "\u001b[0;34m    1      d       4    dog\u001b[0m\n",
       "\u001b[0;34m    >>> pd.concat([df1, df3])\u001b[0m\n",
       "\u001b[0;34m      animal letter  number\u001b[0m\n",
       "\u001b[0;34m    0    NaN      a       1\u001b[0m\n",
       "\u001b[0;34m    1    NaN      b       2\u001b[0m\n",
       "\u001b[0;34m    0    cat      c       3\u001b[0m\n",
       "\u001b[0;34m    1    dog      d       4\u001b[0m\n",
       "\u001b[0;34m\u001b[0m\n",
       "\u001b[0;34m    Combine ``DataFrame`` objects with overlapping columns\u001b[0m\n",
       "\u001b[0;34m    and return only those that are shared by passing ``inner`` to\u001b[0m\n",
       "\u001b[0;34m    the ``join`` keyword argument.\u001b[0m\n",
       "\u001b[0;34m\u001b[0m\n",
       "\u001b[0;34m    >>> pd.concat([df1, df3], join=\"inner\")\u001b[0m\n",
       "\u001b[0;34m      letter  number\u001b[0m\n",
       "\u001b[0;34m    0      a       1\u001b[0m\n",
       "\u001b[0;34m    1      b       2\u001b[0m\n",
       "\u001b[0;34m    0      c       3\u001b[0m\n",
       "\u001b[0;34m    1      d       4\u001b[0m\n",
       "\u001b[0;34m\u001b[0m\n",
       "\u001b[0;34m    Combine ``DataFrame`` objects horizontally along the x axis by\u001b[0m\n",
       "\u001b[0;34m    passing in ``axis=1``.\u001b[0m\n",
       "\u001b[0;34m\u001b[0m\n",
       "\u001b[0;34m    >>> df4 = pd.DataFrame([['bird', 'polly'], ['monkey', 'george']],\u001b[0m\n",
       "\u001b[0;34m    ...                    columns=['animal', 'name'])\u001b[0m\n",
       "\u001b[0;34m    >>> pd.concat([df1, df4], axis=1)\u001b[0m\n",
       "\u001b[0;34m      letter  number  animal    name\u001b[0m\n",
       "\u001b[0;34m    0      a       1    bird   polly\u001b[0m\n",
       "\u001b[0;34m    1      b       2  monkey  george\u001b[0m\n",
       "\u001b[0;34m\u001b[0m\n",
       "\u001b[0;34m    Prevent the result from including duplicate index values with the\u001b[0m\n",
       "\u001b[0;34m    ``verify_integrity`` option.\u001b[0m\n",
       "\u001b[0;34m\u001b[0m\n",
       "\u001b[0;34m    >>> df5 = pd.DataFrame([1], index=['a'])\u001b[0m\n",
       "\u001b[0;34m    >>> df5\u001b[0m\n",
       "\u001b[0;34m       0\u001b[0m\n",
       "\u001b[0;34m    a  1\u001b[0m\n",
       "\u001b[0;34m    >>> df6 = pd.DataFrame([2], index=['a'])\u001b[0m\n",
       "\u001b[0;34m    >>> df6\u001b[0m\n",
       "\u001b[0;34m       0\u001b[0m\n",
       "\u001b[0;34m    a  2\u001b[0m\n",
       "\u001b[0;34m    >>> pd.concat([df5, df6], verify_integrity=True)\u001b[0m\n",
       "\u001b[0;34m    Traceback (most recent call last):\u001b[0m\n",
       "\u001b[0;34m        ...\u001b[0m\n",
       "\u001b[0;34m    ValueError: Indexes have overlapping values: ['a']\u001b[0m\n",
       "\u001b[0;34m    \"\"\"\u001b[0m\u001b[0;34m\u001b[0m\n",
       "\u001b[0;34m\u001b[0m    \u001b[0mop\u001b[0m \u001b[0;34m=\u001b[0m \u001b[0m_Concatenator\u001b[0m\u001b[0;34m(\u001b[0m\u001b[0mobjs\u001b[0m\u001b[0;34m,\u001b[0m \u001b[0maxis\u001b[0m\u001b[0;34m=\u001b[0m\u001b[0maxis\u001b[0m\u001b[0;34m,\u001b[0m \u001b[0mjoin_axes\u001b[0m\u001b[0;34m=\u001b[0m\u001b[0mjoin_axes\u001b[0m\u001b[0;34m,\u001b[0m\u001b[0;34m\u001b[0m\n",
       "\u001b[0;34m\u001b[0m                       \u001b[0mignore_index\u001b[0m\u001b[0;34m=\u001b[0m\u001b[0mignore_index\u001b[0m\u001b[0;34m,\u001b[0m \u001b[0mjoin\u001b[0m\u001b[0;34m=\u001b[0m\u001b[0mjoin\u001b[0m\u001b[0;34m,\u001b[0m\u001b[0;34m\u001b[0m\n",
       "\u001b[0;34m\u001b[0m                       \u001b[0mkeys\u001b[0m\u001b[0;34m=\u001b[0m\u001b[0mkeys\u001b[0m\u001b[0;34m,\u001b[0m \u001b[0mlevels\u001b[0m\u001b[0;34m=\u001b[0m\u001b[0mlevels\u001b[0m\u001b[0;34m,\u001b[0m \u001b[0mnames\u001b[0m\u001b[0;34m=\u001b[0m\u001b[0mnames\u001b[0m\u001b[0;34m,\u001b[0m\u001b[0;34m\u001b[0m\n",
       "\u001b[0;34m\u001b[0m                       \u001b[0mverify_integrity\u001b[0m\u001b[0;34m=\u001b[0m\u001b[0mverify_integrity\u001b[0m\u001b[0;34m,\u001b[0m\u001b[0;34m\u001b[0m\n",
       "\u001b[0;34m\u001b[0m                       \u001b[0mcopy\u001b[0m\u001b[0;34m=\u001b[0m\u001b[0mcopy\u001b[0m\u001b[0;34m,\u001b[0m \u001b[0msort\u001b[0m\u001b[0;34m=\u001b[0m\u001b[0msort\u001b[0m\u001b[0;34m)\u001b[0m\u001b[0;34m\u001b[0m\n",
       "\u001b[0;34m\u001b[0m    \u001b[0;32mreturn\u001b[0m \u001b[0mop\u001b[0m\u001b[0;34m.\u001b[0m\u001b[0mget_result\u001b[0m\u001b[0;34m(\u001b[0m\u001b[0;34m)\u001b[0m\u001b[0;34m\u001b[0m\u001b[0;34m\u001b[0m\u001b[0m\n",
       "\u001b[0;31mFile:\u001b[0m      ~/anaconda3/lib/python3.6/site-packages/pandas/core/reshape/concat.py\n",
       "\u001b[0;31mType:\u001b[0m      function\n"
      ]
     },
     "metadata": {},
     "output_type": "display_data"
    }
   ],
   "source": [
    "pd.concat??"
   ]
  },
  {
   "cell_type": "code",
   "execution_count": 14,
   "metadata": {},
   "outputs": [
    {
     "data": {
      "text/html": [
       "<div>\n",
       "<style scoped>\n",
       "    .dataframe tbody tr th:only-of-type {\n",
       "        vertical-align: middle;\n",
       "    }\n",
       "\n",
       "    .dataframe tbody tr th {\n",
       "        vertical-align: top;\n",
       "    }\n",
       "\n",
       "    .dataframe thead th {\n",
       "        text-align: right;\n",
       "    }\n",
       "</style>\n",
       "<table border=\"1\" class=\"dataframe\">\n",
       "  <thead>\n",
       "    <tr style=\"text-align: right;\">\n",
       "      <th></th>\n",
       "      <th>0</th>\n",
       "    </tr>\n",
       "  </thead>\n",
       "  <tbody>\n",
       "    <tr>\n",
       "      <th>1</th>\n",
       "      <td>A</td>\n",
       "    </tr>\n",
       "    <tr>\n",
       "      <th>2</th>\n",
       "      <td>B</td>\n",
       "    </tr>\n",
       "    <tr>\n",
       "      <th>3</th>\n",
       "      <td>C</td>\n",
       "    </tr>\n",
       "    <tr>\n",
       "      <th>4</th>\n",
       "      <td>D</td>\n",
       "    </tr>\n",
       "    <tr>\n",
       "      <th>5</th>\n",
       "      <td>E</td>\n",
       "    </tr>\n",
       "    <tr>\n",
       "      <th>6</th>\n",
       "      <td>F</td>\n",
       "    </tr>\n",
       "  </tbody>\n",
       "</table>\n",
       "</div>"
      ],
      "text/plain": [
       "   0\n",
       "1  A\n",
       "2  B\n",
       "3  C\n",
       "4  D\n",
       "5  E\n",
       "6  F"
      ]
     },
     "execution_count": 14,
     "metadata": {},
     "output_type": "execute_result"
    }
   ],
   "source": [
    "ser1 = pd.DataFrame(['A','B','C'], index=[1,2,3])\n",
    "ser2 = pd.DataFrame(['D','E','F'], index=[4,5,6])\n",
    "pd.concat([ser1,ser2])"
   ]
  },
  {
   "cell_type": "code",
   "execution_count": 15,
   "metadata": {},
   "outputs": [
    {
     "data": {
      "text/html": [
       "<div>\n",
       "<style scoped>\n",
       "    .dataframe tbody tr th:only-of-type {\n",
       "        vertical-align: middle;\n",
       "    }\n",
       "\n",
       "    .dataframe tbody tr th {\n",
       "        vertical-align: top;\n",
       "    }\n",
       "\n",
       "    .dataframe thead th {\n",
       "        text-align: right;\n",
       "    }\n",
       "</style>\n",
       "<table border=\"1\" class=\"dataframe\">\n",
       "  <thead>\n",
       "    <tr style=\"text-align: right;\">\n",
       "      <th></th>\n",
       "      <th>0</th>\n",
       "    </tr>\n",
       "  </thead>\n",
       "  <tbody>\n",
       "    <tr>\n",
       "      <th>1</th>\n",
       "      <td>A</td>\n",
       "    </tr>\n",
       "    <tr>\n",
       "      <th>2</th>\n",
       "      <td>B</td>\n",
       "    </tr>\n",
       "    <tr>\n",
       "      <th>3</th>\n",
       "      <td>C</td>\n",
       "    </tr>\n",
       "  </tbody>\n",
       "</table>\n",
       "</div>"
      ],
      "text/plain": [
       "   0\n",
       "1  A\n",
       "2  B\n",
       "3  C"
      ]
     },
     "execution_count": 15,
     "metadata": {},
     "output_type": "execute_result"
    }
   ],
   "source": [
    "ser1"
   ]
  },
  {
   "cell_type": "code",
   "execution_count": 16,
   "metadata": {},
   "outputs": [
    {
     "name": "stdout",
     "output_type": "stream",
     "text": [
      "    A   B\n",
      "1  A1  B1\n",
      "2  A2  B2\n",
      "    A   B\n",
      "3  A3  B3\n",
      "4  A4  B4\n",
      "    A   B\n",
      "1  A1  B1\n",
      "2  A2  B2\n",
      "3  A3  B3\n",
      "4  A4  B4\n"
     ]
    }
   ],
   "source": [
    "df1 = make_df('AB',[1,2])\n",
    "df2 = make_df('AB', [3,4])\n",
    "print(df1)\n",
    "print(df2)\n",
    "print(pd.concat([df1, df2]))"
   ]
  },
  {
   "cell_type": "code",
   "execution_count": 17,
   "metadata": {},
   "outputs": [
    {
     "name": "stdout",
     "output_type": "stream",
     "text": [
      "    A   B\n",
      "1  A1  B1\n",
      "2  A2  B2\n",
      "    A   B\n",
      "1  A3  B3\n",
      "2  A4  B4\n",
      "    A   B\n",
      "1  A1  B1\n",
      "2  A2  B2\n",
      "1  A3  B3\n",
      "2  A4  B4\n"
     ]
    }
   ],
   "source": [
    "x = make_df('AB',[1,2])\n",
    "y = make_df('AB', [3,4])\n",
    "y.index = x.index\n",
    "print(x)\n",
    "print(y)\n",
    "print(pd.concat([x, y]))"
   ]
  },
  {
   "cell_type": "code",
   "execution_count": 19,
   "metadata": {},
   "outputs": [
    {
     "name": "stdout",
     "output_type": "stream",
     "text": [
      "    A   B\n",
      "1  A1  B1\n",
      "2  A2  B2\n",
      "    A   B\n",
      "1  A3  B3\n",
      "2  A4  B4\n",
      "    A   B\n",
      "0  A1  B1\n",
      "1  A2  B2\n",
      "2  A3  B3\n",
      "3  A4  B4\n"
     ]
    }
   ],
   "source": [
    "x = make_df('AB',[1,2])\n",
    "y = make_df('AB', [3,4])\n",
    "y.index = x.index\n",
    "print(x)\n",
    "print(y)\n",
    "print(pd.concat([x, y], ignore_index=True))"
   ]
  },
  {
   "cell_type": "code",
   "execution_count": 20,
   "metadata": {},
   "outputs": [
    {
     "name": "stdout",
     "output_type": "stream",
     "text": [
      "    A   B\n",
      "1  A1  B1\n",
      "2  A2  B2\n",
      "    A   B\n",
      "3  A3  B3\n",
      "4  A4  B4\n",
      "      A   B\n",
      "x 1  A1  B1\n",
      "  2  A2  B2\n",
      "y 3  A3  B3\n",
      "  4  A4  B4\n"
     ]
    }
   ],
   "source": [
    "x = make_df('AB',[1,2])\n",
    "y = make_df('AB', [3,4])\n",
    "\n",
    "print(x)\n",
    "print(y)\n",
    "print(pd.concat([x, y], keys=['x','y']))"
   ]
  },
  {
   "cell_type": "code",
   "execution_count": 22,
   "metadata": {},
   "outputs": [
    {
     "name": "stdout",
     "output_type": "stream",
     "text": [
      "    A   B   C\n",
      "1  A1  B1  C1\n",
      "2  A2  B2  C2\n",
      "    B   C   D\n",
      "3  B3  C3  D3\n",
      "4  B4  C4  D4\n",
      "    B   C\n",
      "1  B1  C1\n",
      "2  B2  C2\n",
      "3  B3  C3\n",
      "4  B4  C4\n"
     ]
    }
   ],
   "source": [
    "x = make_df('ABC',[1,2])\n",
    "y = make_df('BCD', [3,4])\n",
    "\n",
    "print(x)\n",
    "print(y)\n",
    "print(pd.concat([x, y], join='inner'))"
   ]
  },
  {
   "cell_type": "code",
   "execution_count": 23,
   "metadata": {},
   "outputs": [
    {
     "name": "stdout",
     "output_type": "stream",
     "text": [
      "    A   B   C\n",
      "1  A1  B1  C1\n",
      "2  A2  B2  C2\n",
      "    B   C   D\n",
      "3  B3  C3  D3\n",
      "4  B4  C4  D4\n",
      "     A   B   C\n",
      "1   A1  B1  C1\n",
      "2   A2  B2  C2\n",
      "3  NaN  B3  C3\n",
      "4  NaN  B4  C4\n"
     ]
    }
   ],
   "source": [
    "print(x)\n",
    "print(y)\n",
    "print(pd.concat([x, y], join_axes=[x.columns]))"
   ]
  },
  {
   "cell_type": "code",
   "execution_count": 26,
   "metadata": {},
   "outputs": [
    {
     "name": "stdout",
     "output_type": "stream",
     "text": [
      "    A   B\n",
      "1  A1  B1\n",
      "2  A2  B2\n",
      "    A   B\n",
      "3  A3  B3\n",
      "4  A4  B4\n",
      "    A   B\n",
      "1  A1  B1\n",
      "2  A2  B2\n",
      "3  A3  B3\n",
      "4  A4  B4\n"
     ]
    }
   ],
   "source": [
    "x = make_df('AB',[1,2])\n",
    "y = make_df('AB', [3,4])\n",
    "\n",
    "print(x)\n",
    "print(y)\n",
    "print(x.append(y))"
   ]
  },
  {
   "cell_type": "code",
   "execution_count": null,
   "metadata": {},
   "outputs": [],
   "source": [
    "## concat is faster than append"
   ]
  }
 ],
 "metadata": {
  "kernelspec": {
   "display_name": "Python 3",
   "language": "python",
   "name": "python3"
  },
  "language_info": {
   "codemirror_mode": {
    "name": "ipython",
    "version": 3
   },
   "file_extension": ".py",
   "mimetype": "text/x-python",
   "name": "python",
   "nbconvert_exporter": "python",
   "pygments_lexer": "ipython3",
   "version": "3.6.8"
  }
 },
 "nbformat": 4,
 "nbformat_minor": 2
}
