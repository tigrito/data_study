{
 "cells": [
  {
   "cell_type": "markdown",
   "metadata": {},
   "source": [
    "## numpy array : universay functions - ufunc"
   ]
  },
  {
   "cell_type": "code",
   "execution_count": 6,
   "metadata": {},
   "outputs": [],
   "source": [
    "## to speed up, the main point is vectorizing\n",
    "import numpy as np\n",
    "np.random.seed(0)\n",
    "\n",
    "def compute_reciprocals(values):\n",
    "    output = np.empty(len(values))\n",
    "    for i in range(len(values)):\n",
    "        output[i] = 1.0/values[i]\n",
    "    return output"
   ]
  },
  {
   "cell_type": "code",
   "execution_count": 7,
   "metadata": {},
   "outputs": [
    {
     "data": {
      "text/plain": [
       "array([0.16666667, 1.        , 0.25      , 0.25      , 0.125     ])"
      ]
     },
     "execution_count": 7,
     "metadata": {},
     "output_type": "execute_result"
    }
   ],
   "source": [
    "values = np.random.randint(1,10, size = 5)\n",
    "compute_reciprocals(values)"
   ]
  },
  {
   "cell_type": "code",
   "execution_count": 8,
   "metadata": {},
   "outputs": [
    {
     "name": "stdout",
     "output_type": "stream",
     "text": [
      "1.44 s ± 19 ms per loop (mean ± std. dev. of 7 runs, 1 loop each)\n"
     ]
    }
   ],
   "source": [
    "big_array = np.random.randint(1, 100, size = 1000000)\n",
    "%timeit compute_reciprocals(big_array)"
   ]
  },
  {
   "cell_type": "code",
   "execution_count": 11,
   "metadata": {},
   "outputs": [
    {
     "name": "stdout",
     "output_type": "stream",
     "text": [
      "[0.16666667 1.         0.25       0.25       0.125     ]\n",
      "[0.16666667 1.         0.25       0.25       0.125     ]\n"
     ]
    }
   ],
   "source": [
    "print(compute_reciprocals(values))\n",
    "print(1.0/values)"
   ]
  },
  {
   "cell_type": "code",
   "execution_count": 12,
   "metadata": {},
   "outputs": [
    {
     "name": "stdout",
     "output_type": "stream",
     "text": [
      "2.57 ms ± 12.1 µs per loop (mean ± std. dev. of 7 runs, 100 loops each)\n"
     ]
    }
   ],
   "source": [
    "%timeit (1.0/big_array)"
   ]
  },
  {
   "cell_type": "code",
   "execution_count": 13,
   "metadata": {},
   "outputs": [
    {
     "data": {
      "text/plain": [
       "array([0.        , 0.5       , 0.66666667, 0.75      , 0.8       ])"
      ]
     },
     "execution_count": 13,
     "metadata": {},
     "output_type": "execute_result"
    }
   ],
   "source": [
    "np.arange(5) / np.arange(1,6)"
   ]
  },
  {
   "cell_type": "code",
   "execution_count": 17,
   "metadata": {},
   "outputs": [
    {
     "data": {
      "text/plain": [
       "array([[0, 1, 2],\n",
       "       [3, 4, 5],\n",
       "       [6, 7, 8]])"
      ]
     },
     "execution_count": 17,
     "metadata": {},
     "output_type": "execute_result"
    }
   ],
   "source": [
    "np.arange(9).reshape((3,3))"
   ]
  },
  {
   "cell_type": "code",
   "execution_count": 19,
   "metadata": {},
   "outputs": [
    {
     "name": "stdout",
     "output_type": "stream",
     "text": [
      "[0 1 2 3]\n",
      "[5 6 7 8]\n",
      "[-5 -4 -3 -2]\n",
      "[0 2 4 6]\n",
      "[0.  0.5 1.  1.5]\n",
      "[0 0 1 1]\n",
      "[ 0 -1 -2 -3]\n",
      "[0 1 4 9]\n",
      "[0 1 0 1]\n"
     ]
    }
   ],
   "source": [
    "##ufuncs\n",
    "x = np.arange(4)\n",
    "print(x)\n",
    "print(x+5)\n",
    "print(x-5)\n",
    "print(x*2)\n",
    "print(x/2)\n",
    "print(x//2)\n",
    "print(-x)\n",
    "print(x**2)\n",
    "print(x%2)"
   ]
  },
  {
   "cell_type": "code",
   "execution_count": 20,
   "metadata": {},
   "outputs": [
    {
     "data": {
      "text/plain": [
       "array([-1.  , -2.25, -4.  , -6.25])"
      ]
     },
     "execution_count": 20,
     "metadata": {},
     "output_type": "execute_result"
    }
   ],
   "source": [
    "-(0.5*x +1) **2"
   ]
  },
  {
   "cell_type": "code",
   "execution_count": 25,
   "metadata": {},
   "outputs": [
    {
     "name": "stdout",
     "output_type": "stream",
     "text": [
      "[0 1 2 3]\n",
      "[2 3 4 5]\n",
      "[-5 -4 -3 -2]\n",
      "[ 0 -1 -2 -3]\n",
      "[0 3 6 9]\n",
      "[0.  0.5 1.  1.5]\n",
      "[0 0 0 1]\n",
      "[  0   1  32 243]\n",
      "[0 1 0 1]\n"
     ]
    }
   ],
   "source": [
    "##np.add\n",
    "##np.subtract\n",
    "##np.negative\n",
    "##np.multiply\n",
    "##np.divide\n",
    "##np.floor_divide\n",
    "##np.power\n",
    "##np.mod\n",
    "print(x)\n",
    "print(np.add(x,2))\n",
    "print(np.subtract(x,5))\n",
    "print(np.negative(x))\n",
    "print(np.multiply(x,3))\n",
    "print(np.divide(x,2))\n",
    "print(np.floor_divide(x,3))\n",
    "print(np.power(x,5))\n",
    "print(np.mod(x,2))"
   ]
  },
  {
   "cell_type": "code",
   "execution_count": 34,
   "metadata": {},
   "outputs": [
    {
     "name": "stdout",
     "output_type": "stream",
     "text": [
      "[2 1 0 1 2]\n",
      "[2 1 0 1 2]\n",
      "[2 1 0 1 2]\n",
      "[5. 5. 2.]\n",
      "[0.         1.57079633 3.14159265]\n",
      "[0.0000000e+00 1.0000000e+00 1.2246468e-16]\n",
      "[ 1.000000e+00  6.123234e-17 -1.000000e+00]\n",
      "[ 0.00000000e+00  1.63312394e+16 -1.22464680e-16]\n",
      "[0.13533528 0.36787944 1.         2.71828183 7.3890561 ]\n",
      "[0.25 0.5  1.   2.   4.  ]\n",
      "[9 3 1 3 9]\n"
     ]
    }
   ],
   "source": [
    "##np.absolute()\n",
    "##np.linspace()\n",
    "##np.exp()\n",
    "##np.exp2\n",
    "##np.power()\n",
    "##np.sin()\n",
    "##np.cos()\n",
    "##np.tan()\n",
    "\n",
    "x = np.array([-2, -1, 0, 1,2])\n",
    "print(abs(x))\n",
    "print(np.absolute(x))\n",
    "print(np.abs(x))\n",
    "print(np.abs([3-4j, 4-3j, 2+0j]))\n",
    "\n",
    "theta = np.linspace(0,np.pi,3)\n",
    "print(theta)\n",
    "print(np.sin(theta))\n",
    "print(np.cos(theta))\n",
    "print(np.tan(theta))\n",
    "\n",
    "print(np.exp(x))  #e^x\n",
    "print(np.exp2(x)) #2^x\n",
    "print(np.power(3,np.abs(x))) #3^x"
   ]
  },
  {
   "cell_type": "code",
   "execution_count": 30,
   "metadata": {},
   "outputs": [
    {
     "name": "stdout",
     "output_type": "stream",
     "text": [
      "[-1, 0, 1]\n",
      "[-1.57079633  0.          1.57079633]\n",
      "[3.14159265 1.57079633 0.        ]\n",
      "[-0.78539816  0.          0.78539816]\n"
     ]
    }
   ],
   "source": [
    "##np.arcsin()\n",
    "##np.arccos()\n",
    "##np.arctan()\n",
    "\n",
    "x = [-1, 0, 1]\n",
    "print(x)\n",
    "print(np.arcsin(x))\n",
    "print(np.arccos(x))\n",
    "print(np.arctan(x))"
   ]
  },
  {
   "cell_type": "code",
   "execution_count": 37,
   "metadata": {},
   "outputs": [
    {
     "name": "stdout",
     "output_type": "stream",
     "text": [
      "[1 2 3 4]\n",
      "[0.         0.69314718 1.09861229 1.38629436]\n",
      "[0.        1.        1.5849625 2.       ]\n",
      "[0.         0.30103    0.47712125 0.60205999]\n",
      "[ 1.71828183  6.3890561  19.08553692 53.59815003]\n",
      "[0.69314718 1.09861229 1.38629436 1.60943791]\n"
     ]
    }
   ],
   "source": [
    "##np.log()  ln(x)\n",
    "##np.log2()  log2()\n",
    "##np.log10()  log10()\n",
    "##np.expm1()  exp() -1\n",
    "##np.log1p()  log(1+ )\n",
    "\n",
    "x = np.arange(1,5)\n",
    "print(x)\n",
    "print(np.log(x))\n",
    "print(np.log2(x))\n",
    "print(np.log10(x))\n",
    "print(np.expm1(x))\n",
    "print(np.log1p(x))"
   ]
  },
  {
   "cell_type": "code",
   "execution_count": 39,
   "metadata": {},
   "outputs": [
    {
     "name": "stdout",
     "output_type": "stream",
     "text": [
      "[1.0000e+00 2.4000e+01 3.6288e+05]\n",
      "[ 0.          3.17805383 12.80182748]\n",
      "[0.5        0.03333333 0.00909091]\n"
     ]
    }
   ],
   "source": [
    "## specail ufunc\n",
    "\n",
    "from scipy import special\n",
    "\n",
    "x = [1 ,5, 10]\n",
    "print(special.gamma(x))\n",
    "print(special.gammaln(x))\n",
    "print(special.beta(x,2))\n"
   ]
  },
  {
   "cell_type": "code",
   "execution_count": 40,
   "metadata": {},
   "outputs": [
    {
     "name": "stdout",
     "output_type": "stream",
     "text": [
      "[0.         0.32862676 0.67780119 0.84270079]\n",
      "[1.         0.67137324 0.32219881 0.15729921]\n",
      "[0.         0.27246271 0.73286908        inf]\n"
     ]
    }
   ],
   "source": [
    "x = np.array([0, 0.3, 0.7, 1.0])\n",
    "print(special.erf(x))\n",
    "print(special.erfc(x))\n",
    "print(special.erfinv(x))"
   ]
  },
  {
   "cell_type": "code",
   "execution_count": null,
   "metadata": {},
   "outputs": [],
   "source": []
  }
 ],
 "metadata": {
  "kernelspec": {
   "display_name": "Python 3",
   "language": "python",
   "name": "python3"
  },
  "language_info": {
   "codemirror_mode": {
    "name": "ipython",
    "version": 3
   },
   "file_extension": ".py",
   "mimetype": "text/x-python",
   "name": "python",
   "nbconvert_exporter": "python",
   "pygments_lexer": "ipython3",
   "version": "3.6.8"
  }
 },
 "nbformat": 4,
 "nbformat_minor": 2
}
